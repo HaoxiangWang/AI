{
 "cells": [
  {
   "cell_type": "markdown",
   "metadata": {},
   "source": [
    "# Introduction to Artificial Intelligence for Non Computing"
   ]
  },
  {
   "cell_type": "markdown",
   "metadata": {},
   "source": [
    "## Practical 3 (weeks 5 - 6)"
   ]
  },
  {
   "cell_type": "markdown",
   "metadata": {},
   "source": [
    "The following links provide additional information about data analysis , machine learning and Numpy"
   ]
  },
  {
   "cell_type": "markdown",
   "metadata": {},
   "source": [
    "Python data analysis: https://www.imooc.com/learn/843\n",
    "machine learning: https://www.imooc.com/learn/717\n",
    "Numpy :https://www.imooc.com/learn/943"
   ]
  },
  {
   "cell_type": "markdown",
   "metadata": {},
   "source": [
    "#### Theory Questions"
   ]
  },
  {
   "cell_type": "markdown",
   "metadata": {},
   "source": [
    "1\\.Which of the following are true and which are false? Give brief explanations.\n",
    "- a. In a fully observable, turn-taking, zero-sum game between two perfectly rational players,it does not help the first player to know what strategy the second player is using—that is, what move the second player will make, given the first player's move.\n",
    "- b. In a partially observable, turn-taking, zero-sum game between two perfectly rational players, it does not help the first player to know what move the second player will make, given the first player's move.\n",
    "- c. A perfectly rational backgammon agent never loses.\n",
    "\n",
    "See textbook Chapter6 24.6"
   ]
  },
  {
   "cell_type": "markdown",
   "metadata": {},
   "source": [
    "a. True. Knowing the action can't change the value of the game for each player.\n",
    "b. No. If we know the second player's can tell the additional information from the first player.\n",
    "    c. No. In the game, the opponent may roll a better result."
   ]
  },
  {
   "cell_type": "markdown",
   "metadata": {},
   "source": [
    "2\\.Define in your own words the terms constraint, backtracking search, arc consistency,backjumping, min-conflicts, and cycle cutset.\n",
    "\n",
    "See textbook Chapter6 6.16"
   ]
  },
  {
   "cell_type": "markdown",
   "metadata": {},
   "source": [
    "Constraint: The restriction of the possible values of the variables.\n",
    "Backtracking Search: Backtracking Search is a kind of DFS. But, the backtracking method isn't in the solution. \n",
    "Arc Consistency: If the value in the domain of A and there is some consistent value of B, it's consistent that a directed arc from variable A to variable B in CSP.\n",
    "Backjumping: When the road is wrong, it will return to the last situation.\n",
    "Min-Conflicts: It is a heuristic. It asks to choose the value, which can make fewest conflicts, when we modify the value of a variable.\n",
    "Cycle Cutset: We remove some variables from the constraint graph, then it will become a cycle cutset.\n",
    "\n",
    "\n",
    "***"
   ]
  },
  {
   "cell_type": "markdown",
   "metadata": {},
   "source": [
    "3\\.Explain why it is a good heuristic to choose the variable that is most constrained but the value that is least constraining in a CSP search.\n",
    "\n",
    "See textbook Chapter6 6.9"
   ]
  },
  {
   "cell_type": "markdown",
   "metadata": {},
   "source": [
    "Because the most constrained variable can short the time of searching and cut the wrong road, when it fails.\n",
    "Then, the least constraining can avoid the conflict.\n",
    "\n",
    "***"
   ]
  },
  {
   "cell_type": "markdown",
   "metadata": {},
   "source": [
    "4\\.Consider the following procedure for choosing moves in games with chance nodes: \n",
    "- 1、Generate some dice-roll sequences (say, 50) down to a suitable depth (say, 8).\n",
    "- 2、With known dice rolls, the game tree becomes deterministic. For each dice-roll sequence,solve the resulting deterministic game tree using alpha-beta.\n",
    "- 3、Use the results to estimate the value of each move and to choose the best.Will this procedure work well? Why (or why not)?\n",
    "\n",
    "See textbook Chapter5 5.19"
   ]
  },
  {
   "cell_type": "markdown",
   "metadata": {},
   "source": [
    "The result can't estimate the value. Because, the method is just calculating the average of Min and Max. But, using the full knowledge of future dice rolls to make the decision in the deterministic trees doesn't extist the necessary relationship.\n",
    "\n",
    "***"
   ]
  },
  {
   "cell_type": "markdown",
   "metadata": {},
   "source": [
    "5\\. Now,please consider this game:  there are three plates A, B and C, each plate has three bills. A puts 1, 20, 50; B puts 5, 10, 100; C puts 1, 5, 20. All units are \"Yuan\". There are two persons A and B, and two of them can check out three plates and banknotes .（ A is ourself, The other is B）\n",
    "The game is divided into three steps: \n",
    "- 1、A select a plate from three plate.\n",
    "- 2、B take out two banknotes from A selected plate,and give the  banknotes to A.  \n",
    "- 3、A take one of the two banknotes, and take it away.among,A want to get the max banknotes, B want to let A to get the min.\n",
    "\n",
    "Try to understand the minimax algorithm，you can click the link:https://blog.csdn.net/tangchenyi/article/details/22920031"
   ]
  },
  {
   "cell_type": "markdown",
   "metadata": {},
   "source": [
    "In the result of the game, the A wants to get the max banknotes and the B wants to let A get the min banknotes. So the the A can only take the banknotes from the constructing of 1 and 20. Then, the A only can get 20 to satisfy the max banknote.\n",
    "\n",
    "***"
   ]
  },
  {
   "cell_type": "markdown",
   "metadata": {},
   "source": [
    "### Programming Excercises"
   ]
  },
  {
   "cell_type": "markdown",
   "metadata": {},
   "source": [
    "1\\. Guess number(Single number): please generate a randomly number  with the function (random), then ask someone to guess the number,I think we should give the corresponding hint, otherwise it will be very difficult to guess the number.the game will be over untill you get the right number."
   ]
  },
  {
   "cell_type": "code",
   "execution_count": 1,
   "metadata": {},
   "outputs": [],
   "source": [
    "import random\n",
    "\n",
    "goal = random.randint(0,100)\n",
    "print goal\n",
    "\n",
    "def guess(goal):\n",
    "    while 1:\n",
    "        guess_num = input(\"Please input number to guess:\")\n",
    "        if guess_num >goal:\n",
    "            print (\"The number is too larger\")\n",
    "        elif guess_num < goal:\n",
    "            print (\"The number is too smaller\")\n",
    "        elif guess_num == goal:\n",
    "            print (\"Congratulate !!!\")\n",
    "            break\n",
    "guess(goal)"
   ]
  },
  {
   "cell_type": "markdown",
   "metadata": {},
   "source": [
    "2\\.if you had understand the guess single number games,Congratulates,next is the guess three number games,Maybe you can do it well.But this is a different way of thinking. \n",
    "first : we need generate three numbers,there are most ten times chances give  you to guess the number,of course,we also give you some cue.\n",
    "\n",
    "- 'When I say:-->It means:\n",
    "- 'error--> The 3 numbers are not in the mystical numbers.'\n",
    "- 'Only the number is correct --> the number is right , but the position is not right.'\n",
    "- 'Absolutely right--> numbers is right and the position also right.'\n",
    "\n",
    "Maybe it's better for you to understand the rule well through see the picture.\n",
    "<div style=\"float:left;\" ><img src=\"img/p1.png\" width=\"400\" height=\"300\" >"
   ]
  },
  {
   "cell_type": "code",
   "execution_count": null,
   "metadata": {},
   "outputs": [],
   "source": [
    "import random\n",
    "\n",
    "\n",
    "def random_split():\n",
    "    goal = random.randint(100, 999)\n",
    "    tt = []\n",
    "    for x in str(goal):\n",
    "        tt.append(x)\n",
    "    # print tt\n",
    "    return tt\n",
    "\n",
    "\n",
    "def split(temp):\n",
    "    tt = []\n",
    "    for x in str(temp):\n",
    "        tt.append(x)\n",
    "    return tt\n",
    "\n",
    "\n",
    "def count(array):\n",
    "    cc = 0\n",
    "    for x in array:\n",
    "        if x == \"Absolutely right\":\n",
    "            cc += 1\n",
    "    return cc\n",
    "\n",
    "\n",
    "def guess():\n",
    "    x = 0\n",
    "    while 1:\n",
    "        result = []\n",
    "        if x == 0:\n",
    "            array_goal = random_split()\n",
    "\n",
    "        x += 1\n",
    "        guess_num = input(\"This is the \" + str(x) + \" time:\")\n",
    "        array_guess = split(guess_num)\n",
    "        for i in range(len(array_guess)):\n",
    "            if array_guess[i] not in array_goal:\n",
    "                result.append('error')\n",
    "            else:\n",
    "                if array_guess[i] == array_goal[i]:\n",
    "                    result.append(\"Absolutely right\")\n",
    "                else:\n",
    "                    result.append('Only the number is correct')\n",
    "        test_num = count(result)\n",
    "        if test_num == 3:\n",
    "            print (\"Congratulations!\")\n",
    "            flag = raw_input(\"Do you want to play again? (yes or no)\")\n",
    "            if flag == \"no\":\n",
    "                break\n",
    "            else:\n",
    "                x = 0\n",
    "        else:\n",
    "            print (result)\n",
    "\n",
    "\n",
    "guess()\n"
   ]
  },
  {
   "cell_type": "markdown",
   "metadata": {},
   "source": [
    "3\\.please try using Python's Tkinter to make a visual interface（GUI）.if you don't know anything.Maybe you can refer to the below interface.and implement it by code.\n",
    "\n",
    "<div style=\"float:left;\" ><img src=\"img/p2.png\" width=\"200\" height=\"200\" >"
   ]
  },
  {
   "cell_type": "code",
   "execution_count": null,
   "metadata": {},
   "outputs": [],
   "source": [
    "from tkinter import *\n",
    "\n",
    "base = Tk()\n",
    "part1 = Listbox(base)\n",
    "part2 = Listbox(base)\n",
    "\n",
    "mess1 = ['C', 'python', 'php', 'html', 'SQl', 'java']\n",
    "mess2 = ['CSS', 'jQuery', 'Bootstrap']\n",
    "for i in mess1:\n",
    "    part1.insert(0, i)\n",
    "for i in mess2:\n",
    "    part2.insert(0, i)\n",
    "\n",
    "part1.pack()\n",
    "part2.pack()\n",
    "\n",
    "base.mainloop()"
   ]
  },
  {
   "cell_type": "markdown",
   "metadata": {},
   "source": [
    "4\\.Through the initial trial of Tkinter,    please write a simple calculator.\n",
    "\n",
    "<div style=\"float:left;\" ><img src=\"img/p3.png\" width=\"180\" height=\"200\" center=\"left\"></div>\n",
    "<div style=\"float:left;\" ><img src=\"img/p4.png\" width=\"180\" height=\"200\" center=\"right\" ></div>"
   ]
  },
  {
   "cell_type": "code",
   "execution_count": 2,
   "metadata": {},
   "outputs": [],
   "source": [
    "from Tkinter import *\n",
    "import ctypes\n",
    "\n",
    "base = Tk()\n",
    "base.geometry('300x320+400+300')\n",
    "base.resizable(False, False)\n",
    "\n",
    "message = StringVar(base, '')\n",
    "entry = Entry(base, textvariable=message)\n",
    "entry['state'] = 'readonly'\n",
    "entry.place(x=5, y=20, width=290, height=30)\n",
    "\n",
    "\n",
    "def buttonClick(action):\n",
    "    content = message.get()\n",
    "    if content.startswith('.'):\n",
    "        content = '0' + content\n",
    "    if action == 'AC':\n",
    "        content = ''\n",
    "    if action == '+/-':\n",
    "        if content.startswith('-'):\n",
    "            content = content[1:]\n",
    "        else:\n",
    "            content = '-' + content\n",
    "\n",
    "    if action == '<-':\n",
    "        content = content[:-1]\n",
    "    if action == '.':\n",
    "        if '.' not in content:\n",
    "            content = content + '.'\n",
    "        else:\n",
    "            wrongmessage = ctypes.windll.user32.MessageBoxA(0, 'In an expression, you can only use one .', 'Wrong!!!',\n",
    "                                                            0)\n",
    "\n",
    "    if action in '0123456789':\n",
    "        content += action\n",
    "    oper = ['/', '*', '-', '+']\n",
    "\n",
    "    if action in oper:\n",
    "        content += action\n",
    "    if action == '=':\n",
    "        content = eval(content)\n",
    "    message.set(content)\n",
    "\n",
    "\n",
    "figure = ['AC', '+/-', '<-', '/', '7', '8', '9', '*', '4', '5', '6', '-', '1', '2', '3', '+']\n",
    "\n",
    "index = 0\n",
    "for row in range(4):\n",
    "    for col in range(4):\n",
    "        d = figure[index]\n",
    "        index += 1\n",
    "        btn = Button(base, text=d, command=lambda action=d: buttonClick(action))\n",
    "        btn.place(x=20 + col * 70, y=80 + row * 50, width=50, height=20)\n",
    "btn = Button(base, text='0', command=lambda: buttonClick('0'))\n",
    "btn.place(x=20, y=80 + 200, width=100, height=20)\n",
    "btn = Button(base, text='.', command=lambda: buttonClick('.'))\n",
    "btn.place(x=160, y=80 + 200, width=50, height=20)\n",
    "btn = Button(base, text='=', command=lambda: buttonClick('='))\n",
    "btn.place(x=230, y=80 + 200, width=50, height=20)\n",
    "\n",
    "base.mainloop()\n",
    "\n"
   ]
  },
  {
   "cell_type": "markdown",
   "metadata": {},
   "source": [
    "5\\.Ball game:Python's pinball game, which can realize the game function of the keyboard control bottom baffle moving collision ball similar to table tennis game. \n",
    "\n",
    "<div style=\"float:left;\" ><img src=\"img/p5.png\" width=\"200\" height=\"200\" center=\"left\"></div>\n",
    "<div style=\"float:left;\" ><img src=\"img/p6.png\" width=\"200\" height=\"200\" center=\"right\" ></div>\n"
   ]
  },
  {
   "cell_type": "markdown",
   "metadata": {},
   "source": [
    "this is a step:how to install the matplotlib,you can reference this link:https://blog.csdn.net/not_give_up_/article/details/79058272\n",
    "1. Ball Class\n",
    "    draw is responsible for moving Ball\n",
    "    Collision detection, bounce, Ball detection of Paddle \n",
    "2. Paddle Class\n",
    "    draw is responsible for moving Paddle\n",
    "    Collision detection to determine whether or not to continue ,Monitor keyboard events\n",
    "3. main cycle\n",
    "    Drawing the Ball and Paddle"
   ]
  },
  {
   "cell_type": "code",
   "execution_count": null,
   "metadata": {},
   "outputs": [],
   "source": [
    "## write your answer here!#coding=utf-8\n",
    "from tkinter import *\n",
    "import time\n",
    "import random\n",
    "import ctypes\n",
    "base = Tk()\n",
    "base.title('Game')\n",
    "base.resizable(False, False)\n",
    "canvas = Canvas(base, width=500, height=500)\n",
    "canvas.pack()\n",
    "base.update()\n",
    "one = canvas.create_text(10,10)\n",
    "\n",
    "\n",
    "class Ball:\n",
    "    def __init__(self, canvas,paddle ,color):\n",
    "        self.canvas = canvas\n",
    "        self.paddle = paddle\n",
    "        self.id = canvas.create_oval(10, 10, 25, 25, fill=color)\n",
    "        self.canvas.move(self.id, 245, 100)\n",
    "        starts = [-3, -2, -1, 1, 2, 3, 4]\n",
    "        random.shuffle(starts)\n",
    "        # print starts\n",
    "        self.x = starts[0]\n",
    "        self.y = -3\n",
    "        self.canvas_height = self.canvas.winfo_height()\n",
    "        self.canvas_width = self.canvas.winfo_width()\n",
    "        self.hit_bottle = False\n",
    "        # self.score = 0\n",
    "\n",
    "        self.canvas.move(self.id, 245, 100)\n",
    "    def hit_paddle(self,pos):\n",
    "        paddle_pos = self.canvas.coords(self.paddle.id)\n",
    "        if pos[2]>=paddle_pos[0] and pos[0]<=paddle_pos[2]:\n",
    "            if pos[3]>= paddle_pos[1]and pos[3]<=paddle_pos[3]:\n",
    "                self.score+=1\n",
    "                return True\n",
    "        return False\n",
    "\n",
    "\n",
    "    def draw(self):\n",
    "        self.canvas.move(self.id, self.x, self.y)\n",
    "        a = Label(base ,text='21412')\n",
    "        pos = self.canvas.coords(self.id)\n",
    "        if pos[1] <= 0:\n",
    "            self.y = 3\n",
    "        if pos[0] <= 0:\n",
    "            self.x = 3\n",
    "        if pos[3] >= self.canvas_height:\n",
    "            # self.id_score.text = 5523\n",
    "            # self.score+=1\n",
    "            self.hit_bottle = True\n",
    "        if pos[2] >= self.canvas_width:\n",
    "            self.x = -3\n",
    "        if self.hit_paddle(pos)== True:\n",
    "            self.y=-3\n",
    "            # print pos\n",
    "        pass\n",
    "class Paddle:\n",
    "    def __init__(self,canvas,color):\n",
    "        self.canvas = canvas\n",
    "        self.id = canvas.create_rectangle(0,0,150,10,fill=color)\n",
    "        self.canvas.move(self.id,200,350)\n",
    "        self.x = 0\n",
    "        self.canvas_long  = self.canvas.winfo_width()\n",
    "        self.canvas.bind_all('<KeyPress-Left>',self.turn_left)\n",
    "        self.canvas.bind_all('<KeyPress-Right>',self.turn_right)\n",
    "\n",
    "    def turn_left(self,evt):\n",
    "        self.x = -3\n",
    "    def turn_right(self,evt):\n",
    "        self.x=3\n",
    "    def draw(self):\n",
    "        self.canvas.move(self.id,self.x,0)\n",
    "        pos = self.canvas.coords(self.id)\n",
    "        if pos[0]<=0:\n",
    "            self.x = 0\n",
    "        if pos[2]>=self.canvas_long:\n",
    "            self.x = 0\n",
    "\n",
    "        pass\n",
    "\n",
    "paddle = Paddle(canvas,'black')\n",
    "ball = Ball(canvas,paddle,'red')\n",
    "\n",
    "\n",
    "while True:\n",
    "    if ball.hit_bottle==False:\n",
    "        ball.draw()\n",
    "        paddle.draw()\n",
    "    else:\n",
    "        GameOver = ctypes.windll.user32.MessageBoxA(0,'Game Over !!!', 'Game',0)\n",
    "        break\n",
    "    base.update_idletasks()\n",
    "    base.update()\n",
    "    time.sleep(0.01)\n"
   ]
  }
 ],
 "metadata": {
  "kernelspec": {
   "display_name": "Python 3",
   "language": "python",
   "name": "python3"
  },
  "language_info": {
   "codemirror_mode": {
    "name": "ipython",
    "version": 3
   },
   "file_extension": ".py",
   "mimetype": "text/x-python",
   "name": "python",
   "nbconvert_exporter": "python",
   "pygments_lexer": "ipython3",
   "version": "3.6.5"
  }
 },
 "nbformat": 4,
 "nbformat_minor": 2
}
